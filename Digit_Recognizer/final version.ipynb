{
  "cells": [
    {
      "metadata": {
        "_uuid": "fb0ee6c34eedaab5a5526097c46d3c525388c439"
      },
      "cell_type": "markdown",
      "source": "# Digit Recognizer using CNN Keras on MNIST"
    },
    {
      "metadata": {
        "_uuid": "4e118e1a37ce79c1968f5c453f955eae6319a86c"
      },
      "cell_type": "markdown",
      "source": "Fengping Wang     \nEmail: Fengping5566@gmail.com  \nLanguage:  Pyton 3"
    },
    {
      "metadata": {
        "_uuid": "272059da8b2cb8455f9745a95c1c43dc23ba3886"
      },
      "cell_type": "markdown",
      "source": "# 1. Library Preparation"
    },
    {
      "metadata": {
        "_cell_guid": "79c7e3d0-c299-4dcb-8224-4455121ee9b0",
        "_uuid": "d629ff2d2480ee46fbb7e2d37f6b5fab8052498a",
        "trusted": true
      },
      "cell_type": "code",
      "source": "# import all librarys\nimport numpy as np \nimport pandas as pd \nimport itertools\nimport matplotlib.pyplot as plt\nfrom collections import Counter \nimport seaborn as sns\nfrom sklearn.model_selection import train_test_split\nfrom sklearn.metrics import confusion_matrix\n%matplotlib inline ",
      "execution_count": 51,
      "outputs": []
    },
    {
      "metadata": {
        "trusted": true,
        "_uuid": "e42de31aa9f327517201bb11e328c7b65e4f2250"
      },
      "cell_type": "code",
      "source": "from keras.models import Sequential, load_model \nfrom keras.layers import Dense, Dropout, Flatten, Conv2D, MaxPooling2D, BatchNormalization\nfrom keras.optimizers import Adam, SGD, Adagrad, Adadelta, RMSprop\nfrom keras.utils import to_categorical\nfrom keras.callbacks import ReduceLROnPlateau, LearningRateScheduler\nfrom keras.preprocessing.image import ImageDataGenerator",
      "execution_count": 23,
      "outputs": []
    },
    {
      "metadata": {
        "_kg_hide-output": true,
        "trusted": true,
        "_uuid": "45f5850313e88d7f8a41a1d3e755effb0f144d6a"
      },
      "cell_type": "code",
      "source": "import os\nprint(os.listdir(\"../input\"))",
      "execution_count": 5,
      "outputs": [
        {
          "output_type": "stream",
          "text": "['sample_submission.csv', 'test.csv', 'train.csv']\n",
          "name": "stdout"
        }
      ]
    },
    {
      "metadata": {
        "_uuid": "1969a242d0793fbb6721750802c9574c1b53a5d1"
      },
      "cell_type": "markdown",
      "source": "# 2. Dataset Preparation"
    },
    {
      "metadata": {
        "_uuid": "d0714f6eb86f354d1ee06deaab38503b616e7cff"
      },
      "cell_type": "markdown",
      "source": "# 2.1) Load Dataset"
    },
    {
      "metadata": {
        "_kg_hide-output": true,
        "trusted": true,
        "_uuid": "7e078c4eafba359ea04fdb502d84b45ec90e4e84"
      },
      "cell_type": "code",
      "source": "train_org = pd.read_csv('../input/train.csv')\ntest_org = pd.read_csv('../input/test.csv')\ntrain = train_org.copy()\ntest = test_org.copy()\nprint(train.shape)\ntrain.head(2)",
      "execution_count": 6,
      "outputs": [
        {
          "output_type": "stream",
          "text": "(42000, 785)\n",
          "name": "stdout"
        },
        {
          "output_type": "execute_result",
          "execution_count": 6,
          "data": {
            "text/plain": "   label  pixel0  pixel1    ...     pixel781  pixel782  pixel783\n0      1       0       0    ...            0         0         0\n1      0       0       0    ...            0         0         0\n\n[2 rows x 785 columns]",
            "text/html": "<div>\n<style scoped>\n    .dataframe tbody tr th:only-of-type {\n        vertical-align: middle;\n    }\n\n    .dataframe tbody tr th {\n        vertical-align: top;\n    }\n\n    .dataframe thead th {\n        text-align: right;\n    }\n</style>\n<table border=\"1\" class=\"dataframe\">\n  <thead>\n    <tr style=\"text-align: right;\">\n      <th></th>\n      <th>label</th>\n      <th>pixel0</th>\n      <th>pixel1</th>\n      <th>pixel2</th>\n      <th>pixel3</th>\n      <th>pixel4</th>\n      <th>pixel5</th>\n      <th>pixel6</th>\n      <th>pixel7</th>\n      <th>pixel8</th>\n      <th>pixel9</th>\n      <th>pixel10</th>\n      <th>pixel11</th>\n      <th>pixel12</th>\n      <th>pixel13</th>\n      <th>pixel14</th>\n      <th>pixel15</th>\n      <th>pixel16</th>\n      <th>pixel17</th>\n      <th>pixel18</th>\n      <th>pixel19</th>\n      <th>pixel20</th>\n      <th>pixel21</th>\n      <th>pixel22</th>\n      <th>pixel23</th>\n      <th>pixel24</th>\n      <th>pixel25</th>\n      <th>pixel26</th>\n      <th>pixel27</th>\n      <th>pixel28</th>\n      <th>pixel29</th>\n      <th>pixel30</th>\n      <th>pixel31</th>\n      <th>pixel32</th>\n      <th>pixel33</th>\n      <th>pixel34</th>\n      <th>pixel35</th>\n      <th>pixel36</th>\n      <th>pixel37</th>\n      <th>pixel38</th>\n      <th>...</th>\n      <th>pixel744</th>\n      <th>pixel745</th>\n      <th>pixel746</th>\n      <th>pixel747</th>\n      <th>pixel748</th>\n      <th>pixel749</th>\n      <th>pixel750</th>\n      <th>pixel751</th>\n      <th>pixel752</th>\n      <th>pixel753</th>\n      <th>pixel754</th>\n      <th>pixel755</th>\n      <th>pixel756</th>\n      <th>pixel757</th>\n      <th>pixel758</th>\n      <th>pixel759</th>\n      <th>pixel760</th>\n      <th>pixel761</th>\n      <th>pixel762</th>\n      <th>pixel763</th>\n      <th>pixel764</th>\n      <th>pixel765</th>\n      <th>pixel766</th>\n      <th>pixel767</th>\n      <th>pixel768</th>\n      <th>pixel769</th>\n      <th>pixel770</th>\n      <th>pixel771</th>\n      <th>pixel772</th>\n      <th>pixel773</th>\n      <th>pixel774</th>\n      <th>pixel775</th>\n      <th>pixel776</th>\n      <th>pixel777</th>\n      <th>pixel778</th>\n      <th>pixel779</th>\n      <th>pixel780</th>\n      <th>pixel781</th>\n      <th>pixel782</th>\n      <th>pixel783</th>\n    </tr>\n  </thead>\n  <tbody>\n    <tr>\n      <th>0</th>\n      <td>1</td>\n      <td>0</td>\n      <td>0</td>\n      <td>0</td>\n      <td>0</td>\n      <td>0</td>\n      <td>0</td>\n      <td>0</td>\n      <td>0</td>\n      <td>0</td>\n      <td>0</td>\n      <td>0</td>\n      <td>0</td>\n      <td>0</td>\n      <td>0</td>\n      <td>0</td>\n      <td>0</td>\n      <td>0</td>\n      <td>0</td>\n      <td>0</td>\n      <td>0</td>\n      <td>0</td>\n      <td>0</td>\n      <td>0</td>\n      <td>0</td>\n      <td>0</td>\n      <td>0</td>\n      <td>0</td>\n      <td>0</td>\n      <td>0</td>\n      <td>0</td>\n      <td>0</td>\n      <td>0</td>\n      <td>0</td>\n      <td>0</td>\n      <td>0</td>\n      <td>0</td>\n      <td>0</td>\n      <td>0</td>\n      <td>0</td>\n      <td>...</td>\n      <td>0</td>\n      <td>0</td>\n      <td>0</td>\n      <td>0</td>\n      <td>0</td>\n      <td>0</td>\n      <td>0</td>\n      <td>0</td>\n      <td>0</td>\n      <td>0</td>\n      <td>0</td>\n      <td>0</td>\n      <td>0</td>\n      <td>0</td>\n      <td>0</td>\n      <td>0</td>\n      <td>0</td>\n      <td>0</td>\n      <td>0</td>\n      <td>0</td>\n      <td>0</td>\n      <td>0</td>\n      <td>0</td>\n      <td>0</td>\n      <td>0</td>\n      <td>0</td>\n      <td>0</td>\n      <td>0</td>\n      <td>0</td>\n      <td>0</td>\n      <td>0</td>\n      <td>0</td>\n      <td>0</td>\n      <td>0</td>\n      <td>0</td>\n      <td>0</td>\n      <td>0</td>\n      <td>0</td>\n      <td>0</td>\n      <td>0</td>\n    </tr>\n    <tr>\n      <th>1</th>\n      <td>0</td>\n      <td>0</td>\n      <td>0</td>\n      <td>0</td>\n      <td>0</td>\n      <td>0</td>\n      <td>0</td>\n      <td>0</td>\n      <td>0</td>\n      <td>0</td>\n      <td>0</td>\n      <td>0</td>\n      <td>0</td>\n      <td>0</td>\n      <td>0</td>\n      <td>0</td>\n      <td>0</td>\n      <td>0</td>\n      <td>0</td>\n      <td>0</td>\n      <td>0</td>\n      <td>0</td>\n      <td>0</td>\n      <td>0</td>\n      <td>0</td>\n      <td>0</td>\n      <td>0</td>\n      <td>0</td>\n      <td>0</td>\n      <td>0</td>\n      <td>0</td>\n      <td>0</td>\n      <td>0</td>\n      <td>0</td>\n      <td>0</td>\n      <td>0</td>\n      <td>0</td>\n      <td>0</td>\n      <td>0</td>\n      <td>0</td>\n      <td>...</td>\n      <td>0</td>\n      <td>0</td>\n      <td>0</td>\n      <td>0</td>\n      <td>0</td>\n      <td>0</td>\n      <td>0</td>\n      <td>0</td>\n      <td>0</td>\n      <td>0</td>\n      <td>0</td>\n      <td>0</td>\n      <td>0</td>\n      <td>0</td>\n      <td>0</td>\n      <td>0</td>\n      <td>0</td>\n      <td>0</td>\n      <td>0</td>\n      <td>0</td>\n      <td>0</td>\n      <td>0</td>\n      <td>0</td>\n      <td>0</td>\n      <td>0</td>\n      <td>0</td>\n      <td>0</td>\n      <td>0</td>\n      <td>0</td>\n      <td>0</td>\n      <td>0</td>\n      <td>0</td>\n      <td>0</td>\n      <td>0</td>\n      <td>0</td>\n      <td>0</td>\n      <td>0</td>\n      <td>0</td>\n      <td>0</td>\n      <td>0</td>\n    </tr>\n  </tbody>\n</table>\n</div>"
          },
          "metadata": {}
        }
      ]
    },
    {
      "metadata": {
        "_uuid": "d40aaf8ede50763fb28e81816762aa9da958c9ec"
      },
      "cell_type": "markdown",
      "source": "# 2.2) Check Unbalanced Data"
    },
    {
      "metadata": {
        "_uuid": "e46ef626579c2160c4db17788d042ced1d4dfaf1"
      },
      "cell_type": "markdown",
      "source": "First, we take a quick look at the trianing dataset. It has 42000 rows and 785 columns. for each sample, it has a label indicating true digit and 784 pixels. "
    },
    {
      "metadata": {
        "trusted": true,
        "_uuid": "8ad9a119d4e523b432f83ab59c5ff991b1b07200"
      },
      "cell_type": "code",
      "source": "cnt_train = Counter(train['label'])\ncnt_train",
      "execution_count": 7,
      "outputs": [
        {
          "output_type": "execute_result",
          "execution_count": 7,
          "data": {
            "text/plain": "Counter({1: 4684,\n         0: 4132,\n         4: 4072,\n         7: 4401,\n         3: 4351,\n         5: 3795,\n         8: 4063,\n         9: 4188,\n         2: 4177,\n         6: 4137})"
          },
          "metadata": {}
        }
      ]
    },
    {
      "metadata": {
        "trusted": true,
        "_uuid": "f1f6d874445b7de75b69b5742f4aaaab349b1d2c"
      },
      "cell_type": "code",
      "source": "sns.countplot(train['label'])",
      "execution_count": 8,
      "outputs": [
        {
          "output_type": "execute_result",
          "execution_count": 8,
          "data": {
            "text/plain": "<matplotlib.axes._subplots.AxesSubplot at 0x7fb59d1c29b0>"
          },
          "metadata": {}
        },
        {
          "output_type": "display_data",
          "data": {
            "text/plain": "<Figure size 432x288 with 1 Axes>",
            "image/png": "[encoded data removed]"
          },
          "metadata": {}
        }
      ]
    },
    {
      "metadata": {
        "_uuid": "f8802a723ab1d24ef215b0b82fb06a3b5be28e34"
      },
      "cell_type": "markdown",
      "source": "we have similar counts for the 10 digits. It's a pretty balanced distributed dataset. But before diving into modeling, we stil need to check for missing values which migbe be a big truble after. "
    },
    {
      "metadata": {
        "_uuid": "0d0d4bad0f3287d399d6a9ec8bbead81c6f11272"
      },
      "cell_type": "markdown",
      "source": "# 2.3) Check Missing Data"
    },
    {
      "metadata": {
        "trusted": true,
        "_uuid": "fc402aab267ea4214537d829950bff384d824fbe"
      },
      "cell_type": "code",
      "source": "train.isnull().any().describe()",
      "execution_count": 9,
      "outputs": [
        {
          "output_type": "execute_result",
          "execution_count": 9,
          "data": {
            "text/plain": "count       785\nunique        1\ntop       False\nfreq        785\ndtype: object"
          },
          "metadata": {}
        }
      ]
    },
    {
      "metadata": {
        "trusted": true,
        "scrolled": true,
        "_uuid": "b438a48914928d4ab26e02ec63c7cb158e1229b4"
      },
      "cell_type": "code",
      "source": "test.isnull().any().describe()",
      "execution_count": 10,
      "outputs": [
        {
          "output_type": "execute_result",
          "execution_count": 10,
          "data": {
            "text/plain": "count       784\nunique        1\ntop       False\nfreq        784\ndtype: object"
          },
          "metadata": {}
        }
      ]
    },
    {
      "metadata": {
        "_uuid": "1a188b1e842353e1d2607a47aa69db91f49ea2c1"
      },
      "cell_type": "markdown",
      "source": "We all got False, so there is no missing value involved in both train and test datasets. That means no corrupted images here, then now we dan dive to analysis.  Before that, let's take a look at these input digits;"
    },
    {
      "metadata": {
        "_uuid": "2a675ba85d387ee27a91a69c64381b7697564deb"
      },
      "cell_type": "markdown",
      "source": "# 2.4) Quick Look of Data"
    },
    {
      "metadata": {
        "trusted": true,
        "_uuid": "9950d7fd4df9d61ca5459d0de54f3e5d6ef6cdbf"
      },
      "cell_type": "code",
      "source": "X = train.iloc[:,1:]\nY = train.iloc[:,0]",
      "execution_count": 11,
      "outputs": []
    },
    {
      "metadata": {
        "trusted": true,
        "_uuid": "dce87313c6f26bbdfcf8b75aec2e625d342493ab"
      },
      "cell_type": "code",
      "source": "n_row = 4\nn_col = 4\nplt.figure(figsize = (8, 8))\nfor i in range(n_row * n_col):  \n    plt.subplot(n_row, n_col, i + 1)\n    grid_data = X.iloc[i].values.reshape(28,28)\n    plt.imshow(grid_data,interpolation = 'nearest')\n    title_text = 'Label: ' + str(Y.iloc[i])\n    plt.title(title_text, size = 10)\n    plt.xticks(())\n    plt.yticks(())\nplt.show()",
      "execution_count": 13,
      "outputs": [
        {
          "output_type": "display_data",
          "data": {
            "text/plain": "<Figure size 576x576 with 16 Axes>",
            "image/png": "[encoded data removed]"
          },
          "metadata": {}
        }
      ]
    },
    {
      "metadata": {
        "_uuid": "28dbedc0b1e0a3be20afa8baa965bb0a539ba2f0"
      },
      "cell_type": "markdown",
      "source": "#  2.5) Data Normalization "
    },
    {
      "metadata": {
        "_uuid": "25d562cbca1c2af9895d1cbe3737723e5ba699ab"
      },
      "cell_type": "markdown",
      "source": "We use grayscale normalization to reduce the effect of illumination's differences. "
    },
    {
      "metadata": {
        "trusted": true,
        "_uuid": "c3d599f9b4e3a34ce58157613db4f78847e0a8cb"
      },
      "cell_type": "code",
      "source": "X = X.astype(\"float32\") / 255.0\nY = Y.astype(\"float32\") / 255.0\ntest = test.astype(\"float32\") / 255.0",
      "execution_count": 14,
      "outputs": []
    },
    {
      "metadata": {
        "_uuid": "a25145808a92cee44e66c5f21c0fec9239e69c30"
      },
      "cell_type": "markdown",
      "source": "# 2.6) Reshape to Match Keras's Application"
    },
    {
      "metadata": {
        "trusted": true,
        "_uuid": "2804af76391bb74ef2b88f6e53080f4bfa3a2555"
      },
      "cell_type": "code",
      "source": "seed = 66\nnp.random.seed(seed)\nx_train , x_test , y_train , y_test = train_test_split(X, Y, \n                                                       test_size = 0.1, \n                                                       random_state = seed)\n# reshape(examples, height, width, channels)\nx_train = x_train.values.reshape(-1, 28, 28, 1)\nx_test = x_test.values.reshape(-1, 28, 28, 1)\ntest = test.values.reshape(-1, 28, 28, 1) ",
      "execution_count": 15,
      "outputs": []
    },
    {
      "metadata": {
        "_uuid": "392f3162f00b8297a9770acabb000ef79eb9d98f"
      },
      "cell_type": "markdown",
      "source": "# 2.7) One Hot Encoding"
    },
    {
      "metadata": {
        "trusted": true,
        "_uuid": "6876e599289c474c587eaf88db02fa530feefd30"
      },
      "cell_type": "code",
      "source": "y_train = to_categorical(y_train, num_classes=10)\ny_test = to_categorical(y_test, num_classes=10)",
      "execution_count": 16,
      "outputs": []
    },
    {
      "metadata": {
        "_uuid": "25ac2b8905ffd6f6fffe44262219ea91e58b4813"
      },
      "cell_type": "markdown",
      "source": "# 3. Model Building: Convolutional Neural Network"
    },
    {
      "metadata": {
        "_uuid": "37311496aa98c97e8718d25a88484b0f14320957"
      },
      "cell_type": "markdown",
      "source": "# 3.1) CNN Introduction "
    },
    {
      "metadata": {
        "_uuid": "480cce52388b76441956423b40b213ef7e171763"
      },
      "cell_type": "markdown",
      "source": "Usually,  when it comes to Image Recognition, then CNN's are the best. The Biggest Challenge is picking the Right model by understanding the Data rather than Tuning parameters of other models."
    },
    {
      "metadata": {
        "_uuid": "9f23bd5eb0ca4cae59cfae949bb85c2dd0b1cb45"
      },
      "cell_type": "markdown",
      "source": "First. let's take a quick look at Conveloutoinal Neural Network(ConvNets).   \nA simple ConvNet is a sequence of layers, and every layer of a ConvNet transforms one volume of activations to another through a differentiable function.   \nWe use three main types of layers to build ConvNet architectures:   \n+++Input Layer  \n+++Hidden Layer:   \nConvolutional Layer  \nPooling Layer  \nFully-Connected Layer   \n(Normalisation layer, Flatten Layer)  \n+++Output Layer  \nWe will stack these layers to form a full ConvNet architecture. The Input Layer and Output Layer are easy to understand. The most important one is the Hidden Layer.\n1. Convolutional layer: A layer that consists of a set of “filters”. The filters take a subset of the input data at a time, but are applied across the full input (by sweeping over the input). The operations performed by this layer are still linear/matrix multiplications, but they go through an activation function at the output, which is usually a non-linear operation.\n2. Pooling layer:  A pooling layer effectively down samples the output of the prior layer, reducing the number of operations required for all the following layers, but still passing on the valid information from the previous layer.\n5. Dense/fully connected layer: A linear operation in which every input is connected to every output by a weight (so there are n_inputs * n_outputs weights - which can be a lot!). Generally followed by a non-linear activation function.  \n+++Normalisation layer: Used at the input for feature scaling, and in batch normalisation at hidden layers.  \n+++Flatten Layer: Flattens the input. Does not affect the batch size."
    },
    {
      "metadata": {
        "_uuid": "5a311693acce4075663476dd476ccba24fc66c76"
      },
      "cell_type": "markdown",
      "source": "For this project, we use Sequential Keras API, which is just a linear stack of layers. We add one layer at a time starting from input.\n1. Input Layer: Build model and take the import.\n2. Hidden Layer --->  Add Convolutoinal Layers with Batch Normalization.   \n+++Convolutoinal Layers are the Building blocks of ConvNets.Convolutional Layers has set of Independent Filters whose depth is equal to Input and other dimensions can be set manually. These Filters when convolved over the Input Image produce Feature Maps. It includes some HyperParameters such as The number of filters, Dimensions of Filter (F), Stride (S), Padding(P) , Activation Function etc. which we input manually. Let the Input Volume Size be deonted by (W) ,  \nThen, the Output will have Dimensions given by --> (Height, Width) = ( ( W − F + 2P ) / S ) + 1  \nAnd the Depth will be equal to Number of Filters Specified.  \n+++Also, We add Batch Normalization where we acheive Zero mean and Variance one. It scales down outliers and forces the network to learn features in a distributed way, not relying too much on a Particular Weight and makes the model better Generalize the Images. \n3. Hidden Layer --->  Add Pooling Layers with Dropout.   \n+++Poolings Layers are re used for Dimensionality Reduction or DownSampling the Input. These are used where we have lot of Input Features. It reduces the amount of Parameters and Computational power required drastically, thus reducing Overfitting. These along with Convolutional layers are able to learn more Complex features of the Image.   \n+++Also we add Dropout to aviod overfitting. his randomly drops some percentage of neurons, and thus the weights gets Re-Aligned. The remaining Neurons learn more features and this reduces the dependency on any one Neuron. DropOut is a Regularization Technique, which Penalizes the Parameters. Generally we set the DropOutRate between 0.2-0.5.\n4. Hidden Layer ---> Add Full Connected Layer with Faltten.  \n+++ Add Flatten layer to map the input to a 1D vector.  \n+++Add Fully connected Layers after some convolutional/pooling layers. It combines all the Features of the Previous Layers.    \n5. Ouput Layer:  Add the Output Layer.   \nIt has units equal to the number of classes to be identified. Here, we use 'sigmoid' function if it is Binary Classification otherwise 'softmax' activation function in case of Multi-Class Classification."
    },
    {
      "metadata": {
        "_uuid": "1068529152245974fdc0fb54a2fef6a071c8b8e3"
      },
      "cell_type": "markdown",
      "source": "# 3.2) ConvNet Building"
    },
    {
      "metadata": {
        "trusted": true,
        "_uuid": "1d15432bf21c8aca641baf43ef54103fc2dd1f13"
      },
      "cell_type": "code",
      "source": "# intilize model \nmodel = Sequential()\n\n# Input Layer + Hidden Layer: 1st Convolution layer\nmodel.add(Conv2D(filters = 32, kernel_size = (3, 3), activation = 'relu', \n                 strides = 1, padding = 'same',\n                 data_format = 'channels_last',\n                 input_shape = (28, 28, 1)))\nmodel.add(BatchNormalization())\nmodel.add(Conv2D(filters = 32, kernel_size = (3, 3), activation = 'relu',\n                 strides = 1, padding = 'same',\n                 data_format = 'channels_last'))\nmodel.add(BatchNormalization())\n\n# Hidden Layer: 1st Pooling layer\nmodel.add(MaxPooling2D(pool_size = (2, 2), strides = 2, padding = 'valid'))\nmodel.add(Dropout(0.25))\n\n# Hidden Layer: 2nd Convolution layer\nmodel.add(Conv2D(filters = 64, kernel_size = (3, 3), activation = 'relu',\n                 strides = 1, padding = 'same',\n                 data_format = 'channels_last'))\nmodel.add(BatchNormalization())\nmodel.add(Conv2D(filters = 64, kernel_size = (3, 3), activation = 'relu',\n                 strides = 1, padding = 'same',\n                 data_format = 'channels_last'))\nmodel.add(BatchNormalization())\n\n# Hidden Layer: 2nd Pooling layer\nmodel.add(MaxPooling2D(pool_size = (2, 2), strides = 2, padding = 'valid'))\nmodel.add(Dropout(0.25))\n\n# Hidden Layer: Flatten layer \nmodel.add(Flatten())\n\n# Hidden Layer: Full Connected Layer \nmodel.add(Dense(units = 512, activation = 'relu')) # units = 512 is dimensionality of output \nmodel.add(BatchNormalization())\nmodel.add(Dropout(0.25))\n\nmodel.add(Dense(units = 1024, activation = 'relu')) \nmodel.add(BatchNormalization())\nmodel.add(Dropout(0.25))\n\n# Output Layer\nmodel.add(Dense(10, activation='softmax'))",
      "execution_count": 17,
      "outputs": []
    },
    {
      "metadata": {
        "_uuid": "9d54c964debe71cc09659a2985f28195cfe305ff"
      },
      "cell_type": "markdown",
      "source": "# 3.3) Model Summary"
    },
    {
      "metadata": {
        "trusted": true,
        "_uuid": "d54dfbca33c1d976eb64b9db65cc46b121831807"
      },
      "cell_type": "code",
      "source": "model.summary()",
      "execution_count": 18,
      "outputs": [
        {
          "output_type": "stream",
          "text": "_________________________________________________________________\nLayer (type)                 Output Shape              Param #   \n=================================================================\nconv2d_1 (Conv2D)            (None, 28, 28, 32)        320       \n_________________________________________________________________\nbatch_normalization_1 (Batch (None, 28, 28, 32)        128       \n_________________________________________________________________\nconv2d_2 (Conv2D)            (None, 28, 28, 32)        9248      \n_________________________________________________________________\nbatch_normalization_2 (Batch (None, 28, 28, 32)        128       \n_________________________________________________________________\nmax_pooling2d_1 (MaxPooling2 (None, 14, 14, 32)        0         \n_________________________________________________________________\ndropout_1 (Dropout)          (None, 14, 14, 32)        0         \n_________________________________________________________________\nconv2d_3 (Conv2D)            (None, 14, 14, 64)        18496     \n_________________________________________________________________\nbatch_normalization_3 (Batch (None, 14, 14, 64)        256       \n_________________________________________________________________\nconv2d_4 (Conv2D)            (None, 14, 14, 64)        36928     \n_________________________________________________________________\nbatch_normalization_4 (Batch (None, 14, 14, 64)        256       \n_________________________________________________________________\nmax_pooling2d_2 (MaxPooling2 (None, 7, 7, 64)          0         \n_________________________________________________________________\ndropout_2 (Dropout)          (None, 7, 7, 64)          0         \n_________________________________________________________________\nflatten_1 (Flatten)          (None, 3136)              0         \n_________________________________________________________________\ndense_1 (Dense)              (None, 512)               1606144   \n_________________________________________________________________\nbatch_normalization_5 (Batch (None, 512)               2048      \n_________________________________________________________________\ndropout_3 (Dropout)          (None, 512)               0         \n_________________________________________________________________\ndense_2 (Dense)              (None, 1024)              525312    \n_________________________________________________________________\nbatch_normalization_6 (Batch (None, 1024)              4096      \n_________________________________________________________________\ndropout_4 (Dropout)          (None, 1024)              0         \n_________________________________________________________________\ndense_3 (Dense)              (None, 10)                10250     \n=================================================================\nTotal params: 2,213,610\nTrainable params: 2,210,154\nNon-trainable params: 3,456\n_________________________________________________________________\n",
          "name": "stdout"
        }
      ]
    },
    {
      "metadata": {
        "_uuid": "91d68dbaf8793a866b90265a68c6eaf991e26f63"
      },
      "cell_type": "markdown",
      "source": "# 3.4) Learning Process"
    },
    {
      "metadata": {
        "_uuid": "c2bd20485a2f60368bb458ff576f89e06a005f35"
      },
      "cell_type": "markdown",
      "source": "Before Training the model, we need to configure the Learning process.   \nNeural networks are often trained by gradient descent on the weights of a cost function. That means, you define a cost function for a neural network, and your goal is to find the weights that can minimize this cost function. It's a optimization problem.  Here The weights are discovered via an empirical optimization procedure called stochastic gradient descent, where the model paramaters (here weights and biases in the network) are updated in a way to decrease the cost function.   \nThe amount of change to the model during each step of this search process, or the step size, is called the “learning rate” . It defines how to update the parameters, and controls the rate or speed at which the model learns..    \nHere, you can also think of a neural networks loss function as a surface, where each direction you can move in represents the value of a weight. Gradient descent is like taking leaps in the current direction of the slope, and the learning rate is like the length of the leap you take.  \nMathematically, w1_new= w1 + (learning rate)* (derivative of cost function wrt w1)\nGenerally, a large learning rate allows the model to learn faster, at the cost of arriving on a sub-optimal final set of weights. A smaller learning rate may allow the model to learn a more optimal or even globally optimal set of weights but may take significantly longer to train.\nThe learning rate may, in fact, be the most important hyperparameter to configure for your model.\nThere are 3 types of learning rate sepfication. \n1. Constant Learning Rate\n2. Learning Rate Schedules:  \nLearning rate schedules seek to adjust the learning rate during training by reducing the learning rate according to a pre-defined schedule. Common learning rate schedules include time-based decay, step decay and exponential decay.  \n3. Adaptive Learning Rate Methods:   \nThe performance of the model on the training dataset can be monitored by the learning algorithm and the learning rate can be adjusted in response.An adaptive learning rate method will generally outperform a model with a badly configured learning rate.Although no single method works best on all problems, there are three adaptive learning rate methods that have proven to be robust over many types of neural network architectures and problem types. They are AdaGrad, RMSProp, and Adam, and all maintain and adapt learning rates for each of the weights in the model. Perhaps the most popular is Adam, as it builds upon RMSProp and adds momentum."
    },
    {
      "metadata": {
        "_uuid": "389f7dc8e3e00efb36707bce538ccd6625f29b4a"
      },
      "cell_type": "markdown",
      "source": "Moreover, even the Adaptive Learning Rate Method itself does a learning rate decay, we can still combine it with earning rate decay to imporve it. ' Though conventional wisdom suggests that Adam does not require tuning, we find that tuning the initial learning rate and decay scheme for Adam yields significant improvements over its default settings in all cases.' "
    },
    {
      "metadata": {
        "_uuid": "aebf7191b5a81f8fd906124650d3924c6ade9595"
      },
      "cell_type": "markdown",
      "source": "Adaptive Learning Rate Methods  \n1. Optimizer.  \nOptimization Algorithms help us minimize the Error Function. The internal parameters of a Model play a very important role in efficiently and effectively training a Model and produce accurate results. This is why we use various Optimization strategies and algorithms to update and calculate appropriate and optimum values of such model’s parameters. There are a lot of Optimization Algos available, you can either define it by yourself or call it by its name. I use Adam (Adaptive Moment Estimation) here as it converges very fast and gets good performance. \n2. Loss Function.  \nFor Binary Classification we use \"binary_crossentropy\" and for Multi-class Classification we use \"categorical_crossentropy\".  \n3. Metrics.    \nWe specify the metrics to Evaluate the model performance. Usually, we use metrics=[\"accuracy\"].\n"
    },
    {
      "metadata": {
        "_uuid": "8edc9f0d30a5dfe1aadfcf3c4a72a7fa9c947c04"
      },
      "cell_type": "markdown",
      "source": "Learning Rate Decay   \nLearning Rate plays a vital role in minimizing the Cost Function. Learning Rate is a Descent step which the Optimizing Algorithms take in order to Converge to a local optimum.  \nTo implement Learning Rate Decay, we can use either LearningRateScheduler or ReduceLRonPlateau.  \nLearningRateScheduler takes the step decay function as argument and return the updated learning rates for use in optimzer at every epoch stage.  \nReduceLRonPlateau monitors a quantity and if no improvement is seen for a 'patience' number of epochs, then the learning rate is reduced by a factor specified manually.  "
    },
    {
      "metadata": {
        "trusted": true,
        "_uuid": "2954fc132d90a8fd05ba06ca032f6d7c5486b777"
      },
      "cell_type": "code",
      "source": "# Optimizer \noptimizer = Adam(lr = 0.001, beta_1 = 0.9, beta_2 = 0.999)\n# Learning Rate Decay \nreduce_lr = LearningRateScheduler(lambda x: 1e-3 * 0.9 ** x)",
      "execution_count": 25,
      "outputs": []
    },
    {
      "metadata": {
        "trusted": true,
        "_uuid": "d3f691ce0c8221aa2eef9f936596e49f9712904e"
      },
      "cell_type": "code",
      "source": "# Compiling Model \nmodel.compile(optimizer = optimizer, \n              loss = 'categorical_crossentropy', \n              metrics = ['accuracy'])",
      "execution_count": 26,
      "outputs": []
    },
    {
      "metadata": {
        "_uuid": "5bba6280fd1634d5b545ed6cc9be2b6bfa0d88ff"
      },
      "cell_type": "markdown",
      "source": "# 3.5) Data Augmentation"
    },
    {
      "metadata": {
        "_uuid": "b722d2e340135f9a4bfbc5387e46c484d400e277"
      },
      "cell_type": "markdown",
      "source": "Data Augmentation simply means increasing the number of Data points. This technique ususlly uses when we get limited data or even if we have lots of data.  It can help to increase the amount of relevant data in your dataset.  \nHere, increase the number of images,  expanding the training dataset to avoid overfitting problem. This can be acheived by Rotating the Image, Flipping the Image, Zooming the Image, Changing light conditions, Cropping it etc. The more the data, the better our models would perform.      \nA convolutional neural network that can robustly classify objects even if its placed in different orientations is said to have the property called invariance. More specifically, a CNN can be invariant to translation, viewpoint, size or illumination (Or a combination of the above).  \nThis essentially is the premise of data augmentation. In the real world scenario, we may have a dataset of images taken in a limited set of conditions. But, our target application may exist in a variety of conditions, such as different orientation, location, scale, brightness etc. We account for these situations by training our neural network with additional synthetically modified data.  "
    },
    {
      "metadata": {
        "trusted": true,
        "_uuid": "495c41455e06000d3cbabbab5670231431afae7b"
      },
      "cell_type": "code",
      "source": "datagen = ImageDataGenerator(\n        featurewise_center=False,  # set input mean to 0 over the dataset\n        samplewise_center=False,  # set each sample mean to 0\n        featurewise_std_normalization=False,  # divide inputs by std of the dataset\n        samplewise_std_normalization=False,  # divide each input by its std\n        zca_whitening=False,  # apply ZCA whitening\n        rotation_range=10,  # randomly rotate images in the range (degrees, 0 to 180)\n        zoom_range = 0.1, # Randomly zoom image \n        width_shift_range=0.1,  # randomly shift images horizontally (fraction of total width)\n        height_shift_range=0.1,  # randomly shift images vertically (fraction of total height)\n        horizontal_flip=False,  # randomly flip images\n        vertical_flip=False)  # randomly flip images",
      "execution_count": 27,
      "outputs": []
    },
    {
      "metadata": {
        "trusted": true,
        "_uuid": "3ae73ba10bf24fc7b736fa626b6b9371c6f5b84e"
      },
      "cell_type": "code",
      "source": "datagen.fit(x_train)",
      "execution_count": 28,
      "outputs": []
    },
    {
      "metadata": {
        "_uuid": "f78d4f9c7f3aa5aefa374d0b09c54c0dff5c65ba"
      },
      "cell_type": "markdown",
      "source": "# 4. Model Fitting: Convolutional Neural Network"
    },
    {
      "metadata": {
        "_uuid": "d10c35cc2c416dcf11da12db2aa2e558941c3d37"
      },
      "cell_type": "markdown",
      "source": "Keras provides three functions to train deep learning models: model.fit, model.fit_generator and model.train_on_batch.  \n+++model.fit: there are 2 assumptions: Our entire training set can fit into RAM  and There is no data augmentation going on . So, for small, simplistic datasets, it’s perfectly acceptable to use model.fit function.   \n+++model.fit_generator: This function assumes there is an underlying function that is generating the data for it.  \n+++model.train_on_batch: This function ccepts a single batch of data, performs backpropagation, and then updates the model parameters."
    },
    {
      "metadata": {
        "trusted": true,
        "_uuid": "e96929156e9b043ad6b5326a35be7f0cc9af7366"
      },
      "cell_type": "code",
      "source": "# specify batch size and epochs parameters\nbatch_size = 64\nepochs = 20",
      "execution_count": 34,
      "outputs": []
    },
    {
      "metadata": {
        "trusted": true,
        "_uuid": "37f135d74ec7619caf02b10cc3f4f477c9b6de07"
      },
      "cell_type": "code",
      "source": "# Fit the Model\nmodel_fit = model.fit_generator(datagen.flow(x_train, y_train, \n                                             batch_size = batch_size), \n                                epochs = epochs, \n                                validation_data = (x_test, y_test), \n                                verbose = 2, \n                                steps_per_epoch = x_train.shape[0] // batch_size,\n                                callbacks = [reduce_lr])",
      "execution_count": 35,
      "outputs": [
        {
          "output_type": "stream",
          "text": "Epoch 1/20\n - 189s - loss: 0.2314 - acc: 0.9383 - val_loss: 5.3420e-04 - val_acc: 1.0000\nEpoch 2/20\n - 185s - loss: 0.0010 - acc: 1.0000 - val_loss: 1.7442e-04 - val_acc: 1.0000\nEpoch 3/20\n - 185s - loss: 4.5765e-04 - acc: 1.0000 - val_loss: 6.1315e-05 - val_acc: 1.0000\nEpoch 4/20\n - 185s - loss: 4.0693e-04 - acc: 1.0000 - val_loss: 6.3533e-05 - val_acc: 1.0000\nEpoch 5/20\n - 185s - loss: 1.2918e-04 - acc: 1.0000 - val_loss: 3.0092e-05 - val_acc: 1.0000\nEpoch 6/20\n - 185s - loss: 9.8393e-05 - acc: 1.0000 - val_loss: 2.1635e-05 - val_acc: 1.0000\nEpoch 7/20\n - 184s - loss: 4.5311e-05 - acc: 1.0000 - val_loss: 1.3520e-05 - val_acc: 1.0000\nEpoch 8/20\n - 185s - loss: 3.2266e-05 - acc: 1.0000 - val_loss: 8.2789e-06 - val_acc: 1.0000\nEpoch 9/20\n - 185s - loss: 2.9110e-05 - acc: 1.0000 - val_loss: 8.4331e-06 - val_acc: 1.0000\nEpoch 10/20\n - 185s - loss: 2.8380e-05 - acc: 1.0000 - val_loss: 6.0705e-06 - val_acc: 1.0000\nEpoch 11/20\n - 185s - loss: 1.6041e-05 - acc: 1.0000 - val_loss: 3.7744e-06 - val_acc: 1.0000\nEpoch 12/20\n - 185s - loss: 1.2630e-05 - acc: 1.0000 - val_loss: 3.0537e-06 - val_acc: 1.0000\nEpoch 13/20\n - 185s - loss: 9.4995e-06 - acc: 1.0000 - val_loss: 2.5908e-06 - val_acc: 1.0000\nEpoch 14/20\n - 185s - loss: 9.5448e-06 - acc: 1.0000 - val_loss: 1.9754e-06 - val_acc: 1.0000\nEpoch 15/20\n - 185s - loss: 6.5599e-06 - acc: 1.0000 - val_loss: 1.3863e-06 - val_acc: 1.0000\nEpoch 16/20\n - 185s - loss: 5.1062e-06 - acc: 1.0000 - val_loss: 1.1929e-06 - val_acc: 1.0000\nEpoch 17/20\n - 184s - loss: 6.2540e-06 - acc: 1.0000 - val_loss: 1.3108e-06 - val_acc: 1.0000\nEpoch 18/20\n - 185s - loss: 7.6313e-06 - acc: 1.0000 - val_loss: 1.5274e-06 - val_acc: 1.0000\nEpoch 19/20\n - 184s - loss: 3.5086e-06 - acc: 1.0000 - val_loss: 6.4873e-07 - val_acc: 1.0000\nEpoch 20/20\n - 185s - loss: 2.3650e-06 - acc: 1.0000 - val_loss: 5.0980e-07 - val_acc: 1.0000\n",
          "name": "stdout"
        }
      ]
    },
    {
      "metadata": {
        "_uuid": "71b1f0a151bec9fc8d223a1f844377e4d76c3c54"
      },
      "cell_type": "markdown",
      "source": "# 5. Evaluation"
    },
    {
      "metadata": {
        "_uuid": "2e651f77e78a0817b71ccf233dda3a87716cc1f3"
      },
      "cell_type": "markdown",
      "source": "# 5.1) Loss and Accuracy "
    },
    {
      "metadata": {
        "_uuid": "de8375ecf70f7e31262ffbc493cba19d2bae428f"
      },
      "cell_type": "markdown",
      "source": "Loss and Accurancy for a machine learning model:  \nThey are two different metrics to evaluate your model's performance usually being used in different phases.  These are \"Accuracy as a function of number of Epochs\" and \"Loss as a function of number of Epochs\".  \n1) Loss    \nLoss is often used in the training process to find the \"best\" parameter values for your model (e.g. weights in neural network). It is what you try to optimize in the training by updating weights. The loss is calculated on training and validation and its interperation is how well the model is doing for these two sets. Unlike accuracy, loss is not a percentage. It is a summation of the errors made for each example in training or validation sets. So, the lower the loss, the better a model.   \nIn the case of neural networks, the loss is usually negative log-likelihood and residual sum of squares for classification and regression respectively. And the Loss value implies how well or poorly a certain model behaves after each iteration of optimization. Ideally, one would expect the reduction of loss after each, or several, iteration(s).  \nNote: Back-propagation is the optimization method in NN and it also  the way to find gradient for weights in NN. Common optimization method in NN are GradientDescent and Adam.  \n2) Accuracy      \nAccuracy is more from an applied perspective. Once you find the optimized parameters above, you use this metrics to evaluate how accurate your model's prediction is compared to the true data.  \n\n"
    },
    {
      "metadata": {
        "trusted": true,
        "_uuid": "464af1b8e80f9901eda2192fecc5fdc34f3d3129"
      },
      "cell_type": "code",
      "source": "model.evaluate(x_test, y_test)",
      "execution_count": 38,
      "outputs": [
        {
          "output_type": "stream",
          "text": "4200/4200 [==============================] - 5s 1ms/step\n",
          "name": "stdout"
        },
        {
          "output_type": "execute_result",
          "execution_count": 38,
          "data": {
            "text/plain": "[5.098044331524371e-07, 1.0]"
          },
          "metadata": {}
        }
      ]
    },
    {
      "metadata": {
        "trusted": true,
        "_uuid": "af56e2bad07c4fb652b4f2eb5b41c7abe47a89e9"
      },
      "cell_type": "code",
      "source": "# Loss as a function of number of Epochs\nplt.plot(model_fit.history['loss'])\nplt.plot(model_fit.history['val_loss'])\nplt.title('Model Loss over Epochs')\nplt.xlabel('Epochs')\nplt.ylabel('Loss')\nplt.legend(['Train', 'Test'])\nplt.show()",
      "execution_count": 40,
      "outputs": [
        {
          "output_type": "display_data",
          "data": {
            "text/plain": "<Figure size 432x288 with 1 Axes>",
            "image/png": "[encoded data removed]"
          },
          "metadata": {}
        }
      ]
    },
    {
      "metadata": {
        "trusted": true,
        "_uuid": "ff25c5cc04295d996023480245339139b38a7430"
      },
      "cell_type": "code",
      "source": "# Accuracy as a function of number of Epochs\nplt.plot(model_fit.history['acc'])\nplt.plot(model_fit.history['val_acc'])\nplt.title('Model Accuracy over Epochs')\nplt.xlabel('Epochs')\nplt.ylabel('Accuracy')\nplt.legend(['Train', 'Test'])\nplt.show()",
      "execution_count": 42,
      "outputs": [
        {
          "output_type": "display_data",
          "data": {
            "text/plain": "<Figure size 432x288 with 1 Axes>",
            "image/png": "[encoded data removed]"
          },
          "metadata": {}
        }
      ]
    },
    {
      "metadata": {
        "_uuid": "af68df99543a2b880c210d1665c2272806295aeb"
      },
      "cell_type": "markdown",
      "source": "Both Validation Accuracy and Training Accuracy converge and finally are close enough at the end. This indicates that our model is not Overfitting the Data."
    },
    {
      "metadata": {
        "_uuid": "a58341983ddf8d8a78add180692d996db54efeb0"
      },
      "cell_type": "markdown",
      "source": "# 5.2) Confusion Matrix"
    },
    {
      "metadata": {
        "_uuid": "4a1f07a2f45394046ee0e611be0afc1a5f14b979"
      },
      "cell_type": "markdown",
      "source": "Classification accuracy alone can be misleading if you have an unequal number of observations in each class or if you have more than two classes in your dataset. So we still need to check Confusion Matrix, which calculating a confusion matrix can give you a better idea of what your classification model is getting right and what types of errors it is making.  \nA confusion matrix is a summary of prediction results on a classification problem. The number of correct and incorrect predictions are summarized with count values and broken down by each class. It gives you insight not only into the errors being made by your classifier but more importantly the types of errors that are being made. It overcomes the limitation of using classification accuracy alone."
    },
    {
      "metadata": {
        "trusted": true,
        "_uuid": "7c19fb1fb1ee1b57948c89b291934fed9f5a55a1"
      },
      "cell_type": "code",
      "source": "def plot_confusion_matrix(cm, classes, normalize, title, cmap):\n    \"\"\"\n    This function prints and plots the confusion matrix.\n    Normalization can be applied by setting `normalize = True`.\n    \"\"\"\n    plt.imshow(cm, interpolation = 'nearest', cmap = cmap)\n    plt.title(title)\n    plt.colorbar()\n    tick_marks = np.arange(len(classes))\n    plt.xticks(tick_marks, classes, rotation = 45)\n    plt.yticks(tick_marks, classes)\n    if normalize:\n        cm = cm.astype('float') / cm.sum(axis = 1)[:, np.newaxis]\n    thresh = cm.max() / 2.\n    for i, j in itertools.product(range(cm.shape[0]), range(cm.shape[1])):\n        plt.text(j, i, cm[i, j], \n                 horizontalalignment = \"center\",\n                 color = \"white\" if cm[i, j] > thresh else \"black\")\n    plt.tight_layout()\n    plt.ylabel('True label')\n    plt.xlabel('Predicted label') ",
      "execution_count": 52,
      "outputs": []
    },
    {
      "metadata": {
        "trusted": true,
        "_uuid": "3e9565daf9f90159af3765adb27ab7b4072922fd"
      },
      "cell_type": "code",
      "source": "# Predict the values from the validation dataset\nY_pred = model.predict(x_test)\n# Convert predictions classes to one hot vectors \nY_pred_classes = np.argmax(Y_pred,axis = 1) \n# Convert validation observations to one hot vectors\nY_true = np.argmax(y_test,axis = 1) \n# compute the confusion matrix\nconfusion_mtx = confusion_matrix(Y_true, Y_pred_classes) \n# plot the confusion matrix\nplot_confusion_matrix(cm = confusion_mtx, \n                      classes = range(10), \n                      normalize = False, \n                      title = 'Confusion Matrix', \n                      cmap = plt.cm.Blues)",
      "execution_count": 53,
      "outputs": [
        {
          "output_type": "display_data",
          "data": {
            "text/plain": "<Figure size 432x288 with 2 Axes>",
            "image/png": "[encoded data removed]"
          },
          "metadata": {}
        }
      ]
    },
    {
      "metadata": {
        "_uuid": "f10167e3256a9d770e4f71a2a4f24e852532ed0d"
      },
      "cell_type": "markdown",
      "source": "We can see that our CNN performs pretty good on all digits with few errors considering the size of the validation set (4 200 images). However, it still make errors at 4 and 9 digits. let's explore the missclassifications. "
    },
    {
      "metadata": {
        "_uuid": "6a3b1cf9550edd295c04bbe78e22ec1f09e594ab"
      },
      "cell_type": "markdown",
      "source": "# 5.3) Missclassification"
    },
    {
      "metadata": {
        "_uuid": "9b7c89057ffde9b9e3513659d780f04efcb12a9c"
      },
      "cell_type": "markdown",
      "source": "Let's check the most important errors."
    },
    {
      "metadata": {
        "trusted": true,
        "_uuid": "92335c8b1e3e0606653bdee8c44e830391214351"
      },
      "cell_type": "code",
      "source": "def display_errors(errors_index, img_errors, pred_errors, obs_errors):\n    \"\"\" This function shows 6 images \n    with their predicted and real labels\"\"\"\n    n = 0\n    nrows = 3\n    ncols = 3\n    fig, ax = plt.subplots(nrows,ncols,\n                           sharex = True,\n                           sharey = True)\n    for row in range(nrows):\n        for col in range(ncols):\n            error = errors_index[n]\n            ax[row,col].imshow((img_errors[error]).reshape((28,28)))\n            ax[row,col].set_title(\"Predicted label :{}\\nTrue label :{}\".format(pred_errors[error],\n                                                                               obs_errors[error]))\n            n += 1\n",
      "execution_count": 55,
      "outputs": []
    },
    {
      "metadata": {
        "trusted": true,
        "_uuid": "4b60a67686e00189dc120eca135968ddcff1aeda"
      },
      "cell_type": "code",
      "source": "# Errors are difference between predicted labels and true labels\nerrors = (Y_pred_classes - Y_true != 0)\nY_pred_classes_errors = Y_pred_classes[errors]\nY_pred_errors = Y_pred[errors]\nY_true_errors = Y_true[errors]\nX_val_errors = X_val[errors]",
      "execution_count": null,
      "outputs": []
    },
    {
      "metadata": {
        "trusted": true,
        "_uuid": "3fa16b69d85b6ceb537d5bac6194558fb5e8f0db"
      },
      "cell_type": "code",
      "source": "# Probabilities of the wrong predicted numbers\nY_pred_errors_prob = np.max(Y_pred_errors,axis = 1)\n# Predicted probabilities of the true values in the error set\ntrue_prob_errors = np.diagonal(np.take(Y_pred_errors, \n                                       Y_true_errors, \n                                       axis = 1))\n# Difference between the probability of the predicted label and true label\ndelta_pred_true_errors = Y_pred_errors_prob - true_prob_errors\n# Sorted list of the delta prob errors\nsorted_dela_errors = np.argsort(delta_pred_true_errors)\n# Top 9 errors \nmost_important_errors = sorted_dela_errors[-9:]\n# Show the top 9 errors\ndisplay_errors(most_important_errors, \n               X_val_errors, \n               Y_pred_classes_errors, \n               Y_true_errors)",
      "execution_count": null,
      "outputs": []
    },
    {
      "metadata": {
        "_uuid": "32367d59792a2d19c0d404a4e0cc6a616a0411e8"
      },
      "cell_type": "markdown",
      "source": "Here we get the top 9 missclassifications.  And we can see that the most important errors are also the most intrigous. So for those 9 case, the model is not bad. Some of these errors can also be made by humans, especially for one the 9 that is very close to a 4. We can still go with our current model. "
    },
    {
      "metadata": {
        "_uuid": "a07c6d387e2abf711e771f5bda2a9964e7446707"
      },
      "cell_type": "markdown",
      "source": "# 6. CSV Generation"
    },
    {
      "metadata": {
        "trusted": true,
        "_uuid": "57a5bb9f10e7e90ffadced1b2e31ccd26f48e793"
      },
      "cell_type": "code",
      "source": "# predict results\nresults = model.predict(test)\n# select the indix with the maximum probability\nresults = np.argmax(results,axis = 1)\nresults = pd.Series(results,name=\"Label\")",
      "execution_count": null,
      "outputs": []
    },
    {
      "metadata": {
        "trusted": true,
        "_uuid": "3e5882cf712213d12fc9654021101c3429a71f65"
      },
      "cell_type": "code",
      "source": "# output CSV\nsubmission = pd.concat([pd.Series(range(1,28001), name = \"ImageId\"), \n                        results],\n                       axis = 1)\nsubmission.to_csv(\"cnn_mnist_datagen.csv\",index = False)",
      "execution_count": null,
      "outputs": []
    }
  ],
  "metadata": {
    "kernelspec": {
      "display_name": "Python 3",
      "language": "python",
      "name": "python3"
    },
    "language_info": {
      "name": "python",
      "version": "3.6.6",
      "mimetype": "text/x-python",
      "codemirror_mode": {
        "name": "ipython",
        "version": 3
      },
      "pygments_lexer": "ipython3",
      "nbconvert_exporter": "python",
      "file_extension": ".py"
    }
  },
  "nbformat": 4,
  "nbformat_minor": 1
}