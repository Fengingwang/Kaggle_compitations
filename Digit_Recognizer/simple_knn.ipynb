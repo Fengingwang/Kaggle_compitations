{
  "cells": [
    {
      "metadata": {
        "_uuid": "8f2839f25d086af736a60e9eeb907d3b93b6e0e5",
        "_cell_guid": "b1076dfc-b9ad-4769-8c92-a6c4dae69d19",
        "trusted": true
      },
      "cell_type": "code",
      "source": "import numpy as np # linear algebra\nimport pandas as pd # data processing, CSV file I/O (e.g. pd.read_csv)\nimport os\nprint(os.listdir(\"../input\"))",
      "execution_count": 63,
      "outputs": [
        {
          "output_type": "stream",
          "text": "['sample_submission.csv', 'test.csv', 'train.csv']\n",
          "name": "stdout"
        }
      ]
    },
    {
      "metadata": {
        "_cell_guid": "79c7e3d0-c299-4dcb-8224-4455121ee9b0",
        "_uuid": "d629ff2d2480ee46fbb7e2d37f6b5fab8052498a",
        "trusted": true
      },
      "cell_type": "code",
      "source": "%matplotlib inline \nimport numpy as np \nimport matplotlib.pyplot as plt\nimport pandas as pd\nimport copy\nfrom sklearn.model_selection import train_test_split\nfrom sklearn.neighbors import KNeighborsClassifier\nfrom sklearn.metrics import accuracy_score\nimport time ",
      "execution_count": 64,
      "outputs": []
    },
    {
      "metadata": {
        "trusted": true,
        "_uuid": "2de51b345a7d8b811bdfcc4a25dc8c743faeeda1"
      },
      "cell_type": "code",
      "source": "# read in dataset\ntrain = pd.read_csv(\"../input/train.csv\")\ntest = pd.read_csv(\"../input/test.csv\")",
      "execution_count": 65,
      "outputs": []
    },
    {
      "metadata": {
        "trusted": true,
        "_uuid": "38aa31a0ee4555c75c4d0b2d724767861807a542"
      },
      "cell_type": "code",
      "source": "# quick look of the data\n# train.describe()\n# train.columns\n# train.iloc[:2]\n# train.shape",
      "execution_count": null,
      "outputs": []
    },
    {
      "metadata": {
        "trusted": true,
        "_uuid": "2a4c36eb39b45a374140155e8b8ea8363ca02502"
      },
      "cell_type": "code",
      "source": "org_x_train = train.values[:, 1:]\norg_y_train = train.values[:, 0 ]\n# type(org_x_train)",
      "execution_count": 66,
      "outputs": []
    },
    {
      "metadata": {
        "trusted": true,
        "_uuid": "b32e3d00098b7caf9790391d07f38607a71829f2"
      },
      "cell_type": "code",
      "source": "# quick look of the obs, eg lst obs\ni = 3\nimg = org_x_train[i]\nimg = img.reshape(28, 28)\nplt.imshow(img, cmap = 'gray')\nplt.title(org_y_train[i])",
      "execution_count": 67,
      "outputs": [
        {
          "output_type": "execute_result",
          "execution_count": 67,
          "data": {
            "text/plain": "Text(0.5,1,'4')"
          },
          "metadata": {}
        },
        {
          "output_type": "display_data",
          "data": {
            "text/plain": "<Figure size 432x288 with 1 Axes>",
            "image/png": "[encoded data removed]"
          },
          "metadata": {}
        }
      ]
    },
    {
      "metadata": {
        "trusted": true,
        "_uuid": "a923af8f2f6804c9d1f04a2b87e4c7eeb1071511"
      },
      "cell_type": "code",
      "source": "# data preparation for KNN\nnor_x_train = copy.deepcopy(org_x_train)\nnor_y_train = copy.deepcopy(org_y_train)\n# data normalization; binary values: 0 vs 1\nnor_x_train[nor_x_train > 1] = 1\nnor_y_train[nor_y_train > 1] = 1",
      "execution_count": 68,
      "outputs": []
    },
    {
      "metadata": {
        "trusted": true,
        "_uuid": "88ad0f480da02b5b362ab3f863bd74c440a85dcd"
      },
      "cell_type": "code",
      "source": "x_train, x_test, y_train, y_test = train_test_split(nor_x_train, nor_y_train, \\\n                                                    test_size = 0.2, random_state = 87) ",
      "execution_count": 69,
      "outputs": []
    },
    {
      "metadata": {
        "trusted": true,
        "_uuid": "941f5225f160af87b7c88316281e61b6bf2010ac"
      },
      "cell_type": "code",
      "source": "# first try k = 5\nk = 5\nstart = time.time()\nknn = KNeighborsClassifier(n_neighbors = k)\nknn.fit(x_train, y_train)\npredict_res = knn.predict(x_test)\npredict_score = accuracy_score(y_test, predict_res)\nend = time.time()",
      "execution_count": 70,
      "outputs": []
    },
    {
      "metadata": {
        "_kg_hide-input": false,
        "trusted": true,
        "_uuid": "3fa0004c8af53ba55631429ec21725133b4f2367"
      },
      "cell_type": "code",
      "source": "print('k = {}'.format(k))\nprint('socre: {}'.format(predict_score))\nprint('complete time: {}'.format(end - start))",
      "execution_count": 71,
      "outputs": [
        {
          "output_type": "stream",
          "text": "k = 5\nsocre: 0.996904761904762\ncomplete time: 562.803295135498\n",
          "name": "stdout"
        }
      ]
    },
    {
      "metadata": {
        "trusted": true,
        "_uuid": "b9e92636275ed066dd961c5516a620a65f2cebaf"
      },
      "cell_type": "code",
      "source": "# we try all k from 1 to 6  to pick top preformers\nk_score = []\nfor k in range(1, 6 + 1): \n    print('k = {}'.format(k))\n    start = time.time()\n    knn = KNeighborsClassifier(n_neighbors = k)\n    knn.fit(x_train, y_train)\n    predict_res = knn.predict(x_test)\n    predict_score = accuracy_score(y_test, predict_res)\n    end = time.time()\n    k_score.append(predict_score)\n    print('Score: {}'.format(predict_score))\n    print('Complete time: {}'.format(end - start))",
      "execution_count": 73,
      "outputs": [
        {
          "output_type": "stream",
          "text": "k = 1\nScore: 0.9967857142857143\nComplete time: -20.363311052322388\nk = 2\nScore: 0.9955952380952381\nComplete time: -579.8881676197052\nk = 3\nScore: 0.9964285714285714\nComplete time: -1143.9782981872559\nk = 4\nScore: 0.9960714285714286\nComplete time: -1707.913459777832\nk = 5\nScore: 0.996904761904762\nComplete time: -2270.654805660248\nk = 6\nScore: 0.9960714285714286\nComplete time: -2832.6776621341705\n",
          "name": "stdout"
        }
      ]
    },
    {
      "metadata": {
        "trusted": true,
        "_uuid": "05d007db01e254dac16237d7fc1cb51df53158d5"
      },
      "cell_type": "code",
      "source": "# analyze the performance score\nprint(k_score)\nplt.plot(range(1, 1 + 6), k_score)\nplt.xlabel('k')\nplt.ylabel('k_score')\nplt.show\n",
      "execution_count": 74,
      "outputs": [
        {
          "output_type": "stream",
          "text": "[0.9967857142857143, 0.9955952380952381, 0.9964285714285714, 0.9960714285714286, 0.996904761904762, 0.9960714285714286]\n",
          "name": "stdout"
        },
        {
          "output_type": "execute_result",
          "execution_count": 74,
          "data": {
            "text/plain": "<function matplotlib.pyplot.show(*args, **kw)>"
          },
          "metadata": {}
        },
        {
          "output_type": "display_data",
          "data": {
            "text/plain": "<Figure size 432x288 with 1 Axes>",
            "image/png": "[encoded data removed]"
          },
          "metadata": {}
        }
      ]
    },
    {
      "metadata": {
        "trusted": true,
        "_uuid": "f599856890a1ac825049502fd0c4ca123b954682"
      },
      "cell_type": "code",
      "source": "test = test.values",
      "execution_count": 75,
      "outputs": []
    },
    {
      "metadata": {
        "trusted": true,
        "_uuid": "a0995707eda957cd1f95d731a947f3737fa20877"
      },
      "cell_type": "code",
      "source": "# pick the best k \nk = 5\nprint('k = {}'.format(k))\nstart = time.time()\nknn = KNeighborsClassifier(n_neighbors = k)\nknn.fit(x_train, y_train)\npredict_res = knn.predict(test)\nend = time.time()\nprint('Complete time: {} Secs'.format(end - start))",
      "execution_count": 76,
      "outputs": [
        {
          "output_type": "stream",
          "text": "k = 5\nComplete time: 1801.11616897583 Secs\n",
          "name": "stdout"
        }
      ]
    },
    {
      "metadata": {
        "trusted": true,
        "_uuid": "b446a6660edbf3f56afa61b9b6b8cfea0fdee5ec"
      },
      "cell_type": "code",
      "source": "# pd.DataFrame({'ImageId': list(range(1, len(predict_res) + 1)), \n#               'Label': predict_res}).to_csv(Digit_Recogniser_Result.csv, index = False, header = True)",
      "execution_count": 79,
      "outputs": []
    }
  ],
  "metadata": {
    "kernelspec": {
      "display_name": "Python 3",
      "language": "python",
      "name": "python3"
    },
    "language_info": {
      "name": "python",
      "version": "3.6.6",
      "mimetype": "text/x-python",
      "codemirror_mode": {
        "name": "ipython",
        "version": 3
      },
      "pygments_lexer": "ipython3",
      "nbconvert_exporter": "python",
      "file_extension": ".py"
    }
  },
  "nbformat": 4,
  "nbformat_minor": 1
}